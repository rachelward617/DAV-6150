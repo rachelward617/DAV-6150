{
 "cells": [
  {
   "cell_type": "markdown",
   "metadata": {},
   "source": [
    "# Sara Ferrari, Michael Vizelman, and Rachel Ward - Final Project Proposal\n",
    "\n",
    "## DAV 6150\n",
    "\n",
    "## Introduction\n",
    "\n",
    "For this project, we will be using data from the [2019 Census Current Population Survey](https://www.census.gov/data/datasets/time-series/demo/cps/cps-asec.html) to predict whether or not a person will receive financial assistance from the government. Our project will focus on census data that is available for millenials. The dataset we have is comprised of 800 variables, but we will be selecting a subset of these that we believe could prove relevant for our population of interest and our goal. \n",
    "\n",
    "In the United States, there is no generalized education on finance (at least in public education), so many individuals who graduate high school or even college, do not have a basic understanding of how to live within their means. Our project will attempt to predict whether an individual will receive financial assistance from the government. This would help the government to see where to target teaching these skills if the government were to attempt to implement a financial education program. By using millenials for this project, we would be getting a subset of the U.S. population which has recently finished schooling and is now in the workforce so we believe this would be the most representative population to look at."
   ]
  },
  {
   "cell_type": "markdown",
   "metadata": {},
   "source": [
    "## Research Questions\n",
    "\n",
    "**Is there any relationship between receiving financial assistance and demographic features like education level, gender, and race?**\n",
    "\n",
    "**Is there any relationship between the region of the individual and the likelihood that they will require financial assistance?**\n",
    "\n",
    "Understanding who receives financial assistance, particularly for the millenial generation, will help governments determine how best to target social services to prevent the need for future financial assistance. The government could also use this data to help budget for the future.  Additionally, this information could be useful for non-profit-organizations who are trying to expand the scope of their services, for example, if they already reach one of the populations of interest, they could serve their communities better by offering financial advice. "
   ]
  },
  {
   "cell_type": "markdown",
   "metadata": {},
   "source": [
    "## Data to be Used\n",
    "\n",
    "As stated above, we will be using a subset of the [2019 Census Current Population Survey](https://www.census.gov/data/datasets/time-series/demo/cps/cps-asec.html). \n",
    "From this dataset we will extract only the data referred to people considered \"Millenials\", which are all born from 1981 to 1996 (according to this [article](https://www.pewresearch.org/fact-tank/2020/04/28/millennials-overtake-baby-boomers-as-americas-largest-generation/#:~:text=As%20of%20July%201%2C%202019,to%2073%20numbered%2071.6%20million.)).In our dataset we have 34,747 observations referring to this particular group.   \n",
    "Since the original dataset is extremely large, we cannot upload it to GitHub. Hence, we will first download the dataset locally and parse out the information we are looking for using Python. We will then upload a clean version of this dataset to GitHub for use in our project. All the steps for this process will be provided and a reader of our project would be able to reproduce our results following our steps. "
   ]
  },
  {
   "cell_type": "markdown",
   "metadata": {},
   "source": [
    "## Approach\n",
    "\n",
    "We will take the following approach to answer our research questions:  \n",
    "1) Use Python to select the subset of our dataset that is of interest.  \n",
    "2) Upload the subset of the dataset to our GitHub repository. read the dataset from our repository, and load the data into a Pandas dataframe.   \n",
    "3) Perform EDA work as necessary.  \n",
    "4) Perform any required data preparation work, including any feature engineering or standardization adjustments we deem necessary for our work.  \n",
    "5) Apply our knowledge of feature selection and/or dimensionality reduction techniques to identify at least four (4) explanatory variables for inclusion within our models. Split the data into training and testing subsets.  \n",
    "6) Use the training subset to construct three distinct types of machine learning models using different combinations of explanatory variables (or the same variables if they have been transformed via different transformation methods).  \n",
    "7) Select our preferred model and evaluate the performance on the test data.  \n",
    "8) Construct an ensemble model comprising all of the models built previously. Explain how this model works. Compare the results of this ensemble approach to the results of our other models.   \n",
    "9) Summarize our work and clearly state the conclusions of our research.  \n",
    "\n",
    "As part of our work, we will use a chi square test of independence and a correlation matrix to evaluate the relationships with the target variable. We will make use of a chloropleth chart to show the difference in financial assistance by region. We will also use side-by-side bar plots to show the relationship between our target variable and our demographic variables. "
   ]
  },
  {
   "cell_type": "markdown",
   "metadata": {},
   "source": [
    "## Member Responsibilities ##\n",
    "**Sara Ferrari:**  \n",
    "+ Find and collect the data for the project's research topic.   \n",
    "+ Ensure data consistency - verify all data is managed correctly after the upload of the data.    \n",
    "+ EDA and preliminary statistical analysis     \n",
    "+ Work in parallel on project code according to the steps described above in the Approach section. Review other team member's work, to pick the most efficient code result.  \n",
    "\n",
    "**Michael Vizelman:**  \n",
    "- Find and collect the data for the project's research topic.\n",
    "- Creation of the models and ensemble model.    \n",
    "- Edit the project documentation (notes and text sections).   \n",
    "- Work in parallel on project code according to the steps described above in the Approach section. Review other team member's work, to pick the most efficient code result. \n",
    "\n",
    "**Rachel Ward:**\n",
    "- Find and collect the data for the project's research topic.\n",
    "- Upload the collected data to a repository that allows the reproduction of the project work, and upload the data correctly to the Jupyter notebook containing the project.    \n",
    "- Creation of the models and ensemble model.   \n",
    "- Work in parallel on project code according to the steps described above in the Approach section. Review other team member's work, to pick the most efficient code result. "
   ]
  }
 ],
 "metadata": {
  "kernelspec": {
   "display_name": "Python 3",
   "language": "python",
   "name": "python3"
  },
  "language_info": {
   "codemirror_mode": {
    "name": "ipython",
    "version": 3
   },
   "file_extension": ".py",
   "mimetype": "text/x-python",
   "name": "python",
   "nbconvert_exporter": "python",
   "pygments_lexer": "ipython3",
   "version": "3.7.3"
  }
 },
 "nbformat": 4,
 "nbformat_minor": 2
}
